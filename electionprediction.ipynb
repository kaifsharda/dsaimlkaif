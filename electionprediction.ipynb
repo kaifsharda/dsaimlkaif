{
 "cells": [
  {
   "cell_type": "code",
   "execution_count": 5,
   "id": "235c0f3d-58f4-4142-9bc2-4789164e3309",
   "metadata": {},
   "outputs": [
    {
     "name": "stderr",
     "output_type": "stream",
     "text": [
      "C:\\Users\\kaif2\\AppData\\Local\\Temp\\ipykernel_9496\\1783498723.py:11: FutureWarning: The provided callable <built-in function max> is currently using SeriesGroupBy.max. In a future version of pandas, the provided callable will be used directly. To keep current behavior pass the string \"max\" instead.\n",
      "  election_data['is_winner'] = election_data.groupby(['year', 'pc_no'])['totvotpoll'].transform(max) == election_data['totvotpoll']\n"
     ]
    },
    {
     "name": "stdout",
     "output_type": "stream",
     "text": [
      "Accuracy: 0.99\n",
      "Classification Report:\n",
      "              precision    recall  f1-score   support\n",
      "\n",
      "           0       0.99      1.00      0.99     21638\n",
      "           1       0.51      0.25      0.33       287\n",
      "\n",
      "    accuracy                           0.99     21925\n",
      "   macro avg       0.75      0.62      0.66     21925\n",
      "weighted avg       0.98      0.99      0.98     21925\n",
      "\n"
     ]
    }
   ],
   "source": [
    "\n",
    "import pandas as pd\n",
    "from sklearn.model_selection import train_test_split\n",
    "from sklearn.ensemble import RandomForestClassifier\n",
    "from sklearn.metrics import accuracy_score, classification_report\n",
    "\n",
    "\n",
    "file_path = \"indian-national-level-election.csv\"  # Replace with your actual file path\n",
    "election_data = pd.read_csv(\"indian-national-level-election.csv\")\n",
    "\n",
    ,
    "election_data['is_winner'] = election_data.groupby(['year', 'pc_no'])['totvotpoll'].transform(max) == election_data['totvotpoll']\n",
    "\n",
    "# Convert 'is_winner' to an integer column (1 for winner, 0 for others)\n",
    "election_data['is_winner'] = election_data['is_winner'].astype(int)\n",
    "\n",
    ,
   ,
    "encoded_data = pd.get_dummies(election_data, columns=['partyabbre', 'cand_sex'], drop_first=True)\n",
    "\n",
    ",
    "features = encoded_data.drop(columns=['st_name', 'pc_name', 'cand_name', 'pc_type', 'partyname', 'totvotpoll', 'electors', 'is_winner'])\n",
    "\n",
    ,
    "target = encoded_data['is_winner']\n",
    "\n",
    
    "X_train, X_test, y_train, y_test = train_test_split(features, target, test_size=0.3, random_state=42)\n",
    "\n",
   ,
    "model = RandomForestClassifier(random_state=42)\n",
    "model.fit(X_train, y_train)\n",
    "\n",
   ,
    "y_pred = model.predict(X_test)\n",
    "accuracy = accuracy_score(y_test, y_pred)\n",
    "report = classification_report(y_test, y_pred)\n",
    "\n",
   ,
    "print(f\"Accuracy: {accuracy:.2f}\")\n",
    "print(\"Classification Report:\")\n",
    "print(report)\n"
   ]
  },
  {
   "cell_type": "code",
   "execution_count": null,
   "id": "ca6d4e4e-ee5d-4a00-bb0e-6b0f0ff62cfa",
   "metadata": {},
   "outputs": [],
   "source": []
  }
 ],
 "metadata": {
  "kernelspec": {
   "display_name": "Python 3 (ipykernel)",
   "language": "python",
   "name": "python3"
  },
  "language_info": {
   "codemirror_mode": {
    "name": "ipython",
    "version": 3
   },
   "file_extension": ".py",
   "mimetype": "text/x-python",
   "name": "python",
   "nbconvert_exporter": "python",
   "pygments_lexer": "ipython3",
   "version": "3.12.4"
  }
 },
 "nbformat": 4,
 "nbformat_minor": 5
}
